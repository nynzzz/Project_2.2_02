{
 "nbformat": 4,
 "nbformat_minor": 0,
 "metadata": {
  "colab": {
   "provenance": [],
   "gpuType": "T4",
   "authorship_tag": "ABX9TyPqu313Baz2ThrNYja7pO7e"
  },
  "kernelspec": {
   "name": "python3",
   "display_name": "Python 3"
  },
  "language_info": {
   "name": "python"
  },
  "accelerator": "GPU",
  "widgets": {
   "application/vnd.jupyter.widget-state+json": {
    "f3ccf98c9b9d4d4faea3c34b4e3adfe9": {
     "model_module": "@jupyter-widgets/controls",
     "model_name": "HBoxModel",
     "model_module_version": "1.5.0",
     "state": {
      "_dom_classes": [],
      "_model_module": "@jupyter-widgets/controls",
      "_model_module_version": "1.5.0",
      "_model_name": "HBoxModel",
      "_view_count": null,
      "_view_module": "@jupyter-widgets/controls",
      "_view_module_version": "1.5.0",
      "_view_name": "HBoxView",
      "box_style": "",
      "children": [
       "IPY_MODEL_544857d58fcb42c8bca9e81d29d1edea",
       "IPY_MODEL_9a35ee9669fa4cb08c662696869865d0",
       "IPY_MODEL_f4c3c0ca690c4028bb6316c62978e553"
      ],
      "layout": "IPY_MODEL_15a2a5b73c3747fea955e10d25da9203"
     }
    },
    "544857d58fcb42c8bca9e81d29d1edea": {
     "model_module": "@jupyter-widgets/controls",
     "model_name": "HTMLModel",
     "model_module_version": "1.5.0",
     "state": {
      "_dom_classes": [],
      "_model_module": "@jupyter-widgets/controls",
      "_model_module_version": "1.5.0",
      "_model_name": "HTMLModel",
      "_view_count": null,
      "_view_module": "@jupyter-widgets/controls",
      "_view_module_version": "1.5.0",
      "_view_name": "HTMLView",
      "description": "",
      "description_tooltip": null,
      "layout": "IPY_MODEL_55cc2467ec4d45899eedaaa3cfb3515f",
      "placeholder": "​",
      "style": "IPY_MODEL_a1671694ac374be5a9c7f47441249656",
      "value": "Downloading (…)lve/main/config.json: "
     }
    },
    "9a35ee9669fa4cb08c662696869865d0": {
     "model_module": "@jupyter-widgets/controls",
     "model_name": "FloatProgressModel",
     "model_module_version": "1.5.0",
     "state": {
      "_dom_classes": [],
      "_model_module": "@jupyter-widgets/controls",
      "_model_module_version": "1.5.0",
      "_model_name": "FloatProgressModel",
      "_view_count": null,
      "_view_module": "@jupyter-widgets/controls",
      "_view_module_version": "1.5.0",
      "_view_name": "ProgressView",
      "bar_style": "success",
      "description": "",
      "description_tooltip": null,
      "layout": "IPY_MODEL_26dea569e09c4dbf8e4b5a8428a92548",
      "max": 1,
      "min": 0,
      "orientation": "horizontal",
      "style": "IPY_MODEL_4bfc2801c36246a5ae24776c9e6c46ca",
      "value": 1
     }
    },
    "f4c3c0ca690c4028bb6316c62978e553": {
     "model_module": "@jupyter-widgets/controls",
     "model_name": "HTMLModel",
     "model_module_version": "1.5.0",
     "state": {
      "_dom_classes": [],
      "_model_module": "@jupyter-widgets/controls",
      "_model_module_version": "1.5.0",
      "_model_name": "HTMLModel",
      "_view_count": null,
      "_view_module": "@jupyter-widgets/controls",
      "_view_module_version": "1.5.0",
      "_view_name": "HTMLView",
      "description": "",
      "description_tooltip": null,
      "layout": "IPY_MODEL_1766a259463a49d6b30b1d6caa4a3cc5",
      "placeholder": "​",
      "style": "IPY_MODEL_1f949ff39467461f86d2641d4a71ebe4",
      "value": " 1.43k/? [00:00&lt;00:00, 44.2kB/s]"
     }
    },
    "15a2a5b73c3747fea955e10d25da9203": {
     "model_module": "@jupyter-widgets/base",
     "model_name": "LayoutModel",
     "model_module_version": "1.2.0",
     "state": {
      "_model_module": "@jupyter-widgets/base",
      "_model_module_version": "1.2.0",
      "_model_name": "LayoutModel",
      "_view_count": null,
      "_view_module": "@jupyter-widgets/base",
      "_view_module_version": "1.2.0",
      "_view_name": "LayoutView",
      "align_content": null,
      "align_items": null,
      "align_self": null,
      "border": null,
      "bottom": null,
      "display": null,
      "flex": null,
      "flex_flow": null,
      "grid_area": null,
      "grid_auto_columns": null,
      "grid_auto_flow": null,
      "grid_auto_rows": null,
      "grid_column": null,
      "grid_gap": null,
      "grid_row": null,
      "grid_template_areas": null,
      "grid_template_columns": null,
      "grid_template_rows": null,
      "height": null,
      "justify_content": null,
      "justify_items": null,
      "left": null,
      "margin": null,
      "max_height": null,
      "max_width": null,
      "min_height": null,
      "min_width": null,
      "object_fit": null,
      "object_position": null,
      "order": null,
      "overflow": null,
      "overflow_x": null,
      "overflow_y": null,
      "padding": null,
      "right": null,
      "top": null,
      "visibility": null,
      "width": null
     }
    },
    "55cc2467ec4d45899eedaaa3cfb3515f": {
     "model_module": "@jupyter-widgets/base",
     "model_name": "LayoutModel",
     "model_module_version": "1.2.0",
     "state": {
      "_model_module": "@jupyter-widgets/base",
      "_model_module_version": "1.2.0",
      "_model_name": "LayoutModel",
      "_view_count": null,
      "_view_module": "@jupyter-widgets/base",
      "_view_module_version": "1.2.0",
      "_view_name": "LayoutView",
      "align_content": null,
      "align_items": null,
      "align_self": null,
      "border": null,
      "bottom": null,
      "display": null,
      "flex": null,
      "flex_flow": null,
      "grid_area": null,
      "grid_auto_columns": null,
      "grid_auto_flow": null,
      "grid_auto_rows": null,
      "grid_column": null,
      "grid_gap": null,
      "grid_row": null,
      "grid_template_areas": null,
      "grid_template_columns": null,
      "grid_template_rows": null,
      "height": null,
      "justify_content": null,
      "justify_items": null,
      "left": null,
      "margin": null,
      "max_height": null,
      "max_width": null,
      "min_height": null,
      "min_width": null,
      "object_fit": null,
      "object_position": null,
      "order": null,
      "overflow": null,
      "overflow_x": null,
      "overflow_y": null,
      "padding": null,
      "right": null,
      "top": null,
      "visibility": null,
      "width": null
     }
    },
    "a1671694ac374be5a9c7f47441249656": {
     "model_module": "@jupyter-widgets/controls",
     "model_name": "DescriptionStyleModel",
     "model_module_version": "1.5.0",
     "state": {
      "_model_module": "@jupyter-widgets/controls",
      "_model_module_version": "1.5.0",
      "_model_name": "DescriptionStyleModel",
      "_view_count": null,
      "_view_module": "@jupyter-widgets/base",
      "_view_module_version": "1.2.0",
      "_view_name": "StyleView",
      "description_width": ""
     }
    },
    "26dea569e09c4dbf8e4b5a8428a92548": {
     "model_module": "@jupyter-widgets/base",
     "model_name": "LayoutModel",
     "model_module_version": "1.2.0",
     "state": {
      "_model_module": "@jupyter-widgets/base",
      "_model_module_version": "1.2.0",
      "_model_name": "LayoutModel",
      "_view_count": null,
      "_view_module": "@jupyter-widgets/base",
      "_view_module_version": "1.2.0",
      "_view_name": "LayoutView",
      "align_content": null,
      "align_items": null,
      "align_self": null,
      "border": null,
      "bottom": null,
      "display": null,
      "flex": null,
      "flex_flow": null,
      "grid_area": null,
      "grid_auto_columns": null,
      "grid_auto_flow": null,
      "grid_auto_rows": null,
      "grid_column": null,
      "grid_gap": null,
      "grid_row": null,
      "grid_template_areas": null,
      "grid_template_columns": null,
      "grid_template_rows": null,
      "height": null,
      "justify_content": null,
      "justify_items": null,
      "left": null,
      "margin": null,
      "max_height": null,
      "max_width": null,
      "min_height": null,
      "min_width": null,
      "object_fit": null,
      "object_position": null,
      "order": null,
      "overflow": null,
      "overflow_x": null,
      "overflow_y": null,
      "padding": null,
      "right": null,
      "top": null,
      "visibility": null,
      "width": "20px"
     }
    },
    "4bfc2801c36246a5ae24776c9e6c46ca": {
     "model_module": "@jupyter-widgets/controls",
     "model_name": "ProgressStyleModel",
     "model_module_version": "1.5.0",
     "state": {
      "_model_module": "@jupyter-widgets/controls",
      "_model_module_version": "1.5.0",
      "_model_name": "ProgressStyleModel",
      "_view_count": null,
      "_view_module": "@jupyter-widgets/base",
      "_view_module_version": "1.2.0",
      "_view_name": "StyleView",
      "bar_color": null,
      "description_width": ""
     }
    },
    "1766a259463a49d6b30b1d6caa4a3cc5": {
     "model_module": "@jupyter-widgets/base",
     "model_name": "LayoutModel",
     "model_module_version": "1.2.0",
     "state": {
      "_model_module": "@jupyter-widgets/base",
      "_model_module_version": "1.2.0",
      "_model_name": "LayoutModel",
      "_view_count": null,
      "_view_module": "@jupyter-widgets/base",
      "_view_module_version": "1.2.0",
      "_view_name": "LayoutView",
      "align_content": null,
      "align_items": null,
      "align_self": null,
      "border": null,
      "bottom": null,
      "display": null,
      "flex": null,
      "flex_flow": null,
      "grid_area": null,
      "grid_auto_columns": null,
      "grid_auto_flow": null,
      "grid_auto_rows": null,
      "grid_column": null,
      "grid_gap": null,
      "grid_row": null,
      "grid_template_areas": null,
      "grid_template_columns": null,
      "grid_template_rows": null,
      "height": null,
      "justify_content": null,
      "justify_items": null,
      "left": null,
      "margin": null,
      "max_height": null,
      "max_width": null,
      "min_height": null,
      "min_width": null,
      "object_fit": null,
      "object_position": null,
      "order": null,
      "overflow": null,
      "overflow_x": null,
      "overflow_y": null,
      "padding": null,
      "right": null,
      "top": null,
      "visibility": null,
      "width": null
     }
    },
    "1f949ff39467461f86d2641d4a71ebe4": {
     "model_module": "@jupyter-widgets/controls",
     "model_name": "DescriptionStyleModel",
     "model_module_version": "1.5.0",
     "state": {
      "_model_module": "@jupyter-widgets/controls",
      "_model_module_version": "1.5.0",
      "_model_name": "DescriptionStyleModel",
      "_view_count": null,
      "_view_module": "@jupyter-widgets/base",
      "_view_module_version": "1.2.0",
      "_view_name": "StyleView",
      "description_width": ""
     }
    },
    "dd73e16d7ed8434c81fb27619da04859": {
     "model_module": "@jupyter-widgets/controls",
     "model_name": "HBoxModel",
     "model_module_version": "1.5.0",
     "state": {
      "_dom_classes": [],
      "_model_module": "@jupyter-widgets/controls",
      "_model_module_version": "1.5.0",
      "_model_name": "HBoxModel",
      "_view_count": null,
      "_view_module": "@jupyter-widgets/controls",
      "_view_module_version": "1.5.0",
      "_view_name": "HBoxView",
      "box_style": "",
      "children": [
       "IPY_MODEL_459f603fa1904b2682e33a897d4e4597",
       "IPY_MODEL_e85628105b3f456498326cd71857c227",
       "IPY_MODEL_f881723781ae4608b5eae85fba85ee33"
      ],
      "layout": "IPY_MODEL_b7a3895ef2fb4339bc1956342a19d2ef"
     }
    },
    "459f603fa1904b2682e33a897d4e4597": {
     "model_module": "@jupyter-widgets/controls",
     "model_name": "HTMLModel",
     "model_module_version": "1.5.0",
     "state": {
      "_dom_classes": [],
      "_model_module": "@jupyter-widgets/controls",
      "_model_module_version": "1.5.0",
      "_model_name": "HTMLModel",
      "_view_count": null,
      "_view_module": "@jupyter-widgets/controls",
      "_view_module_version": "1.5.0",
      "_view_name": "HTMLView",
      "description": "",
      "description_tooltip": null,
      "layout": "IPY_MODEL_ba4f080e2b4942bd9e51641cb091e650",
      "placeholder": "​",
      "style": "IPY_MODEL_1db2c94b780f41c3aec39a5ec5df76b9",
      "value": "Downloading pytorch_model.bin: 100%"
     }
    },
    "e85628105b3f456498326cd71857c227": {
     "model_module": "@jupyter-widgets/controls",
     "model_name": "FloatProgressModel",
     "model_module_version": "1.5.0",
     "state": {
      "_dom_classes": [],
      "_model_module": "@jupyter-widgets/controls",
      "_model_module_version": "1.5.0",
      "_model_name": "FloatProgressModel",
      "_view_count": null,
      "_view_module": "@jupyter-widgets/controls",
      "_view_module_version": "1.5.0",
      "_view_name": "ProgressView",
      "bar_style": "success",
      "description": "",
      "description_tooltip": null,
      "layout": "IPY_MODEL_3ff3493d9bf6455f9fd9ff130a8a82bc",
      "max": 1625285449,
      "min": 0,
      "orientation": "horizontal",
      "style": "IPY_MODEL_2afab321dee4475a99ee6c1f35ec5b7e",
      "value": 1625285449
     }
    },
    "f881723781ae4608b5eae85fba85ee33": {
     "model_module": "@jupyter-widgets/controls",
     "model_name": "HTMLModel",
     "model_module_version": "1.5.0",
     "state": {
      "_dom_classes": [],
      "_model_module": "@jupyter-widgets/controls",
      "_model_module_version": "1.5.0",
      "_model_name": "HTMLModel",
      "_view_count": null,
      "_view_module": "@jupyter-widgets/controls",
      "_view_module_version": "1.5.0",
      "_view_name": "HTMLView",
      "description": "",
      "description_tooltip": null,
      "layout": "IPY_MODEL_1cdc4264786640688332013807d07276",
      "placeholder": "​",
      "style": "IPY_MODEL_44b27a9ade2742b299d51770e46c54c7",
      "value": " 1.63G/1.63G [00:45&lt;00:00, 36.4MB/s]"
     }
    },
    "b7a3895ef2fb4339bc1956342a19d2ef": {
     "model_module": "@jupyter-widgets/base",
     "model_name": "LayoutModel",
     "model_module_version": "1.2.0",
     "state": {
      "_model_module": "@jupyter-widgets/base",
      "_model_module_version": "1.2.0",
      "_model_name": "LayoutModel",
      "_view_count": null,
      "_view_module": "@jupyter-widgets/base",
      "_view_module_version": "1.2.0",
      "_view_name": "LayoutView",
      "align_content": null,
      "align_items": null,
      "align_self": null,
      "border": null,
      "bottom": null,
      "display": null,
      "flex": null,
      "flex_flow": null,
      "grid_area": null,
      "grid_auto_columns": null,
      "grid_auto_flow": null,
      "grid_auto_rows": null,
      "grid_column": null,
      "grid_gap": null,
      "grid_row": null,
      "grid_template_areas": null,
      "grid_template_columns": null,
      "grid_template_rows": null,
      "height": null,
      "justify_content": null,
      "justify_items": null,
      "left": null,
      "margin": null,
      "max_height": null,
      "max_width": null,
      "min_height": null,
      "min_width": null,
      "object_fit": null,
      "object_position": null,
      "order": null,
      "overflow": null,
      "overflow_x": null,
      "overflow_y": null,
      "padding": null,
      "right": null,
      "top": null,
      "visibility": null,
      "width": null
     }
    },
    "ba4f080e2b4942bd9e51641cb091e650": {
     "model_module": "@jupyter-widgets/base",
     "model_name": "LayoutModel",
     "model_module_version": "1.2.0",
     "state": {
      "_model_module": "@jupyter-widgets/base",
      "_model_module_version": "1.2.0",
      "_model_name": "LayoutModel",
      "_view_count": null,
      "_view_module": "@jupyter-widgets/base",
      "_view_module_version": "1.2.0",
      "_view_name": "LayoutView",
      "align_content": null,
      "align_items": null,
      "align_self": null,
      "border": null,
      "bottom": null,
      "display": null,
      "flex": null,
      "flex_flow": null,
      "grid_area": null,
      "grid_auto_columns": null,
      "grid_auto_flow": null,
      "grid_auto_rows": null,
      "grid_column": null,
      "grid_gap": null,
      "grid_row": null,
      "grid_template_areas": null,
      "grid_template_columns": null,
      "grid_template_rows": null,
      "height": null,
      "justify_content": null,
      "justify_items": null,
      "left": null,
      "margin": null,
      "max_height": null,
      "max_width": null,
      "min_height": null,
      "min_width": null,
      "object_fit": null,
      "object_position": null,
      "order": null,
      "overflow": null,
      "overflow_x": null,
      "overflow_y": null,
      "padding": null,
      "right": null,
      "top": null,
      "visibility": null,
      "width": null
     }
    },
    "1db2c94b780f41c3aec39a5ec5df76b9": {
     "model_module": "@jupyter-widgets/controls",
     "model_name": "DescriptionStyleModel",
     "model_module_version": "1.5.0",
     "state": {
      "_model_module": "@jupyter-widgets/controls",
      "_model_module_version": "1.5.0",
      "_model_name": "DescriptionStyleModel",
      "_view_count": null,
      "_view_module": "@jupyter-widgets/base",
      "_view_module_version": "1.2.0",
      "_view_name": "StyleView",
      "description_width": ""
     }
    },
    "3ff3493d9bf6455f9fd9ff130a8a82bc": {
     "model_module": "@jupyter-widgets/base",
     "model_name": "LayoutModel",
     "model_module_version": "1.2.0",
     "state": {
      "_model_module": "@jupyter-widgets/base",
      "_model_module_version": "1.2.0",
      "_model_name": "LayoutModel",
      "_view_count": null,
      "_view_module": "@jupyter-widgets/base",
      "_view_module_version": "1.2.0",
      "_view_name": "LayoutView",
      "align_content": null,
      "align_items": null,
      "align_self": null,
      "border": null,
      "bottom": null,
      "display": null,
      "flex": null,
      "flex_flow": null,
      "grid_area": null,
      "grid_auto_columns": null,
      "grid_auto_flow": null,
      "grid_auto_rows": null,
      "grid_column": null,
      "grid_gap": null,
      "grid_row": null,
      "grid_template_areas": null,
      "grid_template_columns": null,
      "grid_template_rows": null,
      "height": null,
      "justify_content": null,
      "justify_items": null,
      "left": null,
      "margin": null,
      "max_height": null,
      "max_width": null,
      "min_height": null,
      "min_width": null,
      "object_fit": null,
      "object_position": null,
      "order": null,
      "overflow": null,
      "overflow_x": null,
      "overflow_y": null,
      "padding": null,
      "right": null,
      "top": null,
      "visibility": null,
      "width": null
     }
    },
    "2afab321dee4475a99ee6c1f35ec5b7e": {
     "model_module": "@jupyter-widgets/controls",
     "model_name": "ProgressStyleModel",
     "model_module_version": "1.5.0",
     "state": {
      "_model_module": "@jupyter-widgets/controls",
      "_model_module_version": "1.5.0",
      "_model_name": "ProgressStyleModel",
      "_view_count": null,
      "_view_module": "@jupyter-widgets/base",
      "_view_module_version": "1.2.0",
      "_view_name": "StyleView",
      "bar_color": null,
      "description_width": ""
     }
    },
    "1cdc4264786640688332013807d07276": {
     "model_module": "@jupyter-widgets/base",
     "model_name": "LayoutModel",
     "model_module_version": "1.2.0",
     "state": {
      "_model_module": "@jupyter-widgets/base",
      "_model_module_version": "1.2.0",
      "_model_name": "LayoutModel",
      "_view_count": null,
      "_view_module": "@jupyter-widgets/base",
      "_view_module_version": "1.2.0",
      "_view_name": "LayoutView",
      "align_content": null,
      "align_items": null,
      "align_self": null,
      "border": null,
      "bottom": null,
      "display": null,
      "flex": null,
      "flex_flow": null,
      "grid_area": null,
      "grid_auto_columns": null,
      "grid_auto_flow": null,
      "grid_auto_rows": null,
      "grid_column": null,
      "grid_gap": null,
      "grid_row": null,
      "grid_template_areas": null,
      "grid_template_columns": null,
      "grid_template_rows": null,
      "height": null,
      "justify_content": null,
      "justify_items": null,
      "left": null,
      "margin": null,
      "max_height": null,
      "max_width": null,
      "min_height": null,
      "min_width": null,
      "object_fit": null,
      "object_position": null,
      "order": null,
      "overflow": null,
      "overflow_x": null,
      "overflow_y": null,
      "padding": null,
      "right": null,
      "top": null,
      "visibility": null,
      "width": null
     }
    },
    "44b27a9ade2742b299d51770e46c54c7": {
     "model_module": "@jupyter-widgets/controls",
     "model_name": "DescriptionStyleModel",
     "model_module_version": "1.5.0",
     "state": {
      "_model_module": "@jupyter-widgets/controls",
      "_model_module_version": "1.5.0",
      "_model_name": "DescriptionStyleModel",
      "_view_count": null,
      "_view_module": "@jupyter-widgets/base",
      "_view_module_version": "1.2.0",
      "_view_name": "StyleView",
      "description_width": ""
     }
    },
    "1d1723fb0b59408caac7d136cce90bd7": {
     "model_module": "@jupyter-widgets/controls",
     "model_name": "HBoxModel",
     "model_module_version": "1.5.0",
     "state": {
      "_dom_classes": [],
      "_model_module": "@jupyter-widgets/controls",
      "_model_module_version": "1.5.0",
      "_model_name": "HBoxModel",
      "_view_count": null,
      "_view_module": "@jupyter-widgets/controls",
      "_view_module_version": "1.5.0",
      "_view_name": "HBoxView",
      "box_style": "",
      "children": [
       "IPY_MODEL_e6116e3178d441419f06927111d8f9d8",
       "IPY_MODEL_04c7649959174fd390d2b165628771b4",
       "IPY_MODEL_501315a8271540d2a9ab023e6bd14a51"
      ],
      "layout": "IPY_MODEL_ea28cb7389ce46e98f67d1c9d908fa60"
     }
    },
    "e6116e3178d441419f06927111d8f9d8": {
     "model_module": "@jupyter-widgets/controls",
     "model_name": "HTMLModel",
     "model_module_version": "1.5.0",
     "state": {
      "_dom_classes": [],
      "_model_module": "@jupyter-widgets/controls",
      "_model_module_version": "1.5.0",
      "_model_name": "HTMLModel",
      "_view_count": null,
      "_view_module": "@jupyter-widgets/controls",
      "_view_module_version": "1.5.0",
      "_view_name": "HTMLView",
      "description": "",
      "description_tooltip": null,
      "layout": "IPY_MODEL_686699b67f0242b09bb2e975f600f11a",
      "placeholder": "​",
      "style": "IPY_MODEL_c676e767a6264bcaa714f0f9a18e7159",
      "value": "Map: 100%"
     }
    },
    "04c7649959174fd390d2b165628771b4": {
     "model_module": "@jupyter-widgets/controls",
     "model_name": "FloatProgressModel",
     "model_module_version": "1.5.0",
     "state": {
      "_dom_classes": [],
      "_model_module": "@jupyter-widgets/controls",
      "_model_module_version": "1.5.0",
      "_model_name": "FloatProgressModel",
      "_view_count": null,
      "_view_module": "@jupyter-widgets/controls",
      "_view_module_version": "1.5.0",
      "_view_name": "ProgressView",
      "bar_style": "",
      "description": "",
      "description_tooltip": null,
      "layout": "IPY_MODEL_80a8c5e4cb5540b0931615cc601f19d4",
      "max": 278,
      "min": 0,
      "orientation": "horizontal",
      "style": "IPY_MODEL_0dbe8bff1e9541d98b785a033fb5caee",
      "value": 278
     }
    },
    "501315a8271540d2a9ab023e6bd14a51": {
     "model_module": "@jupyter-widgets/controls",
     "model_name": "HTMLModel",
     "model_module_version": "1.5.0",
     "state": {
      "_dom_classes": [],
      "_model_module": "@jupyter-widgets/controls",
      "_model_module_version": "1.5.0",
      "_model_name": "HTMLModel",
      "_view_count": null,
      "_view_module": "@jupyter-widgets/controls",
      "_view_module_version": "1.5.0",
      "_view_name": "HTMLView",
      "description": "",
      "description_tooltip": null,
      "layout": "IPY_MODEL_0a23394f8bb9496b8f982edc26a9319f",
      "placeholder": "​",
      "style": "IPY_MODEL_33a5650df953469db33ce94e8cc80f4e",
      "value": " 278/278 [00:00&lt;00:00, 426.85 examples/s]"
     }
    },
    "ea28cb7389ce46e98f67d1c9d908fa60": {
     "model_module": "@jupyter-widgets/base",
     "model_name": "LayoutModel",
     "model_module_version": "1.2.0",
     "state": {
      "_model_module": "@jupyter-widgets/base",
      "_model_module_version": "1.2.0",
      "_model_name": "LayoutModel",
      "_view_count": null,
      "_view_module": "@jupyter-widgets/base",
      "_view_module_version": "1.2.0",
      "_view_name": "LayoutView",
      "align_content": null,
      "align_items": null,
      "align_self": null,
      "border": null,
      "bottom": null,
      "display": null,
      "flex": null,
      "flex_flow": null,
      "grid_area": null,
      "grid_auto_columns": null,
      "grid_auto_flow": null,
      "grid_auto_rows": null,
      "grid_column": null,
      "grid_gap": null,
      "grid_row": null,
      "grid_template_areas": null,
      "grid_template_columns": null,
      "grid_template_rows": null,
      "height": null,
      "justify_content": null,
      "justify_items": null,
      "left": null,
      "margin": null,
      "max_height": null,
      "max_width": null,
      "min_height": null,
      "min_width": null,
      "object_fit": null,
      "object_position": null,
      "order": null,
      "overflow": null,
      "overflow_x": null,
      "overflow_y": null,
      "padding": null,
      "right": null,
      "top": null,
      "visibility": "hidden",
      "width": null
     }
    },
    "686699b67f0242b09bb2e975f600f11a": {
     "model_module": "@jupyter-widgets/base",
     "model_name": "LayoutModel",
     "model_module_version": "1.2.0",
     "state": {
      "_model_module": "@jupyter-widgets/base",
      "_model_module_version": "1.2.0",
      "_model_name": "LayoutModel",
      "_view_count": null,
      "_view_module": "@jupyter-widgets/base",
      "_view_module_version": "1.2.0",
      "_view_name": "LayoutView",
      "align_content": null,
      "align_items": null,
      "align_self": null,
      "border": null,
      "bottom": null,
      "display": null,
      "flex": null,
      "flex_flow": null,
      "grid_area": null,
      "grid_auto_columns": null,
      "grid_auto_flow": null,
      "grid_auto_rows": null,
      "grid_column": null,
      "grid_gap": null,
      "grid_row": null,
      "grid_template_areas": null,
      "grid_template_columns": null,
      "grid_template_rows": null,
      "height": null,
      "justify_content": null,
      "justify_items": null,
      "left": null,
      "margin": null,
      "max_height": null,
      "max_width": null,
      "min_height": null,
      "min_width": null,
      "object_fit": null,
      "object_position": null,
      "order": null,
      "overflow": null,
      "overflow_x": null,
      "overflow_y": null,
      "padding": null,
      "right": null,
      "top": null,
      "visibility": null,
      "width": null
     }
    },
    "c676e767a6264bcaa714f0f9a18e7159": {
     "model_module": "@jupyter-widgets/controls",
     "model_name": "DescriptionStyleModel",
     "model_module_version": "1.5.0",
     "state": {
      "_model_module": "@jupyter-widgets/controls",
      "_model_module_version": "1.5.0",
      "_model_name": "DescriptionStyleModel",
      "_view_count": null,
      "_view_module": "@jupyter-widgets/base",
      "_view_module_version": "1.2.0",
      "_view_name": "StyleView",
      "description_width": ""
     }
    },
    "80a8c5e4cb5540b0931615cc601f19d4": {
     "model_module": "@jupyter-widgets/base",
     "model_name": "LayoutModel",
     "model_module_version": "1.2.0",
     "state": {
      "_model_module": "@jupyter-widgets/base",
      "_model_module_version": "1.2.0",
      "_model_name": "LayoutModel",
      "_view_count": null,
      "_view_module": "@jupyter-widgets/base",
      "_view_module_version": "1.2.0",
      "_view_name": "LayoutView",
      "align_content": null,
      "align_items": null,
      "align_self": null,
      "border": null,
      "bottom": null,
      "display": null,
      "flex": null,
      "flex_flow": null,
      "grid_area": null,
      "grid_auto_columns": null,
      "grid_auto_flow": null,
      "grid_auto_rows": null,
      "grid_column": null,
      "grid_gap": null,
      "grid_row": null,
      "grid_template_areas": null,
      "grid_template_columns": null,
      "grid_template_rows": null,
      "height": null,
      "justify_content": null,
      "justify_items": null,
      "left": null,
      "margin": null,
      "max_height": null,
      "max_width": null,
      "min_height": null,
      "min_width": null,
      "object_fit": null,
      "object_position": null,
      "order": null,
      "overflow": null,
      "overflow_x": null,
      "overflow_y": null,
      "padding": null,
      "right": null,
      "top": null,
      "visibility": null,
      "width": null
     }
    },
    "0dbe8bff1e9541d98b785a033fb5caee": {
     "model_module": "@jupyter-widgets/controls",
     "model_name": "ProgressStyleModel",
     "model_module_version": "1.5.0",
     "state": {
      "_model_module": "@jupyter-widgets/controls",
      "_model_module_version": "1.5.0",
      "_model_name": "ProgressStyleModel",
      "_view_count": null,
      "_view_module": "@jupyter-widgets/base",
      "_view_module_version": "1.2.0",
      "_view_name": "StyleView",
      "bar_color": null,
      "description_width": ""
     }
    },
    "0a23394f8bb9496b8f982edc26a9319f": {
     "model_module": "@jupyter-widgets/base",
     "model_name": "LayoutModel",
     "model_module_version": "1.2.0",
     "state": {
      "_model_module": "@jupyter-widgets/base",
      "_model_module_version": "1.2.0",
      "_model_name": "LayoutModel",
      "_view_count": null,
      "_view_module": "@jupyter-widgets/base",
      "_view_module_version": "1.2.0",
      "_view_name": "LayoutView",
      "align_content": null,
      "align_items": null,
      "align_self": null,
      "border": null,
      "bottom": null,
      "display": null,
      "flex": null,
      "flex_flow": null,
      "grid_area": null,
      "grid_auto_columns": null,
      "grid_auto_flow": null,
      "grid_auto_rows": null,
      "grid_column": null,
      "grid_gap": null,
      "grid_row": null,
      "grid_template_areas": null,
      "grid_template_columns": null,
      "grid_template_rows": null,
      "height": null,
      "justify_content": null,
      "justify_items": null,
      "left": null,
      "margin": null,
      "max_height": null,
      "max_width": null,
      "min_height": null,
      "min_width": null,
      "object_fit": null,
      "object_position": null,
      "order": null,
      "overflow": null,
      "overflow_x": null,
      "overflow_y": null,
      "padding": null,
      "right": null,
      "top": null,
      "visibility": null,
      "width": null
     }
    },
    "33a5650df953469db33ce94e8cc80f4e": {
     "model_module": "@jupyter-widgets/controls",
     "model_name": "DescriptionStyleModel",
     "model_module_version": "1.5.0",
     "state": {
      "_model_module": "@jupyter-widgets/controls",
      "_model_module_version": "1.5.0",
      "_model_name": "DescriptionStyleModel",
      "_view_count": null,
      "_view_module": "@jupyter-widgets/base",
      "_view_module_version": "1.2.0",
      "_view_name": "StyleView",
      "description_width": ""
     }
    }
   }
  }
 },
 "cells": [
  {
   "cell_type": "code",
   "execution_count": 1,
   "metadata": {
    "colab": {
     "base_uri": "https://localhost:8080/"
    },
    "id": "WdBGoAcbnYkG",
    "executionInfo": {
     "status": "ok",
     "timestamp": 1687699004151,
     "user_tz": -120,
     "elapsed": 17006,
     "user": {
      "displayName": "Егор Сёма",
      "userId": "02815036778832912553"
     }
    },
    "outputId": "19ba3071-441c-4358-a479-ef45017e3d63"
   },
   "outputs": [
    {
     "output_type": "stream",
     "name": "stdout",
     "text": [
      "Mounted at /content/drive\n"
     ]
    }
   ],
   "source": [
    "from google.colab import drive\n",
    "drive.mount('/content/drive')"
   ]
  },
  {
   "cell_type": "code",
   "source": [
    "!pip install transformers\n",
    "!pip install rouge_score\n",
    "!pip install pandas\n",
    "!pip install tqdm\n",
    "!pip install datasets evaluate transformers[sentencepiece]"
   ],
   "metadata": {
    "id": "ZfzGwCaundw2"
   },
   "execution_count": null,
   "outputs": []
  },
  {
   "cell_type": "code",
   "source": [
    "import torch\n",
    "import pandas as pd\n",
    "from transformers import AutoModelForQuestionAnswering, AutoTokenizer\n",
    "from rouge_score import rouge_scorer\n",
    "from tqdm import tqdm\n",
    "import matplotlib.pyplot as plt\n",
    "import datasets\n",
    "from datasets import load_dataset\n",
    "import collections\n",
    "import numpy as np"
   ],
   "metadata": {
    "id": "lDtcxGztnh_I",
    "executionInfo": {
     "status": "ok",
     "timestamp": 1687699056566,
     "user_tz": -120,
     "elapsed": 12449,
     "user": {
      "displayName": "Егор Сёма",
      "userId": "02815036778832912553"
     }
    }
   },
   "execution_count": 3,
   "outputs": []
  },
  {
   "cell_type": "code",
   "source": [
    "# Load the original QA model\n",
    "\n",
    "\n",
    "# model_name = \"deepset/roberta-base-squad2\"\n",
    "model_name = 'valhalla/bart-large-finetuned-squadv1'\n",
    "model_squad = AutoModelForQuestionAnswering.from_pretrained(model_name)\n",
    "# tokenizer = AutoTokenizer.from_pretrained(model_name)\n",
    "\n",
    "# checkpoint_path = \"/content/drive/MyDrive/Project_2.2_fine-tuning/roberta-finetuned-subjqa-movies/checkpoint-3040\"\n",
    "checkpoint_path = '/content/drive/MyDrive/Project_2.2_fine-tuning/bart-finetuned-subjqa-movies/checkpoint-2432'\n",
    "model_tuned = AutoModelForQuestionAnswering.from_pretrained(checkpoint_path)\n",
    "tokenizer = AutoTokenizer.from_pretrained(checkpoint_path)"
   ],
   "metadata": {
    "colab": {
     "base_uri": "https://localhost:8080/",
     "height": 135,
     "referenced_widgets": [
      "f3ccf98c9b9d4d4faea3c34b4e3adfe9",
      "544857d58fcb42c8bca9e81d29d1edea",
      "9a35ee9669fa4cb08c662696869865d0",
      "f4c3c0ca690c4028bb6316c62978e553",
      "15a2a5b73c3747fea955e10d25da9203",
      "55cc2467ec4d45899eedaaa3cfb3515f",
      "a1671694ac374be5a9c7f47441249656",
      "26dea569e09c4dbf8e4b5a8428a92548",
      "4bfc2801c36246a5ae24776c9e6c46ca",
      "1766a259463a49d6b30b1d6caa4a3cc5",
      "1f949ff39467461f86d2641d4a71ebe4",
      "dd73e16d7ed8434c81fb27619da04859",
      "459f603fa1904b2682e33a897d4e4597",
      "e85628105b3f456498326cd71857c227",
      "f881723781ae4608b5eae85fba85ee33",
      "b7a3895ef2fb4339bc1956342a19d2ef",
      "ba4f080e2b4942bd9e51641cb091e650",
      "1db2c94b780f41c3aec39a5ec5df76b9",
      "3ff3493d9bf6455f9fd9ff130a8a82bc",
      "2afab321dee4475a99ee6c1f35ec5b7e",
      "1cdc4264786640688332013807d07276",
      "44b27a9ade2742b299d51770e46c54c7"
     ]
    },
    "id": "81Xc-qJrsK_z",
    "executionInfo": {
     "status": "ok",
     "timestamp": 1687699191544,
     "user_tz": -120,
     "elapsed": 135001,
     "user": {
      "displayName": "Егор Сёма",
      "userId": "02815036778832912553"
     }
    },
    "outputId": "1ea9ef8f-8bd0-4687-c985-85af2b9704ae"
   },
   "execution_count": 4,
   "outputs": [
    {
     "output_type": "display_data",
     "data": {
      "text/plain": [
       "Downloading (…)lve/main/config.json: 0.00B [00:00, ?B/s]"
      ],
      "application/vnd.jupyter.widget-view+json": {
       "version_major": 2,
       "version_minor": 0,
       "model_id": "f3ccf98c9b9d4d4faea3c34b4e3adfe9"
      }
     },
     "metadata": {}
    },
    {
     "output_type": "stream",
     "name": "stderr",
     "text": [
      "You passed along `num_labels=3` with an incompatible id to label map: {'0': 'LABEL_0', '1': 'LABEL_1'}. The number of labels wil be overwritten to 2.\n"
     ]
    },
    {
     "output_type": "display_data",
     "data": {
      "text/plain": [
       "Downloading pytorch_model.bin:   0%|          | 0.00/1.63G [00:00<?, ?B/s]"
      ],
      "application/vnd.jupyter.widget-view+json": {
       "version_major": 2,
       "version_minor": 0,
       "model_id": "dd73e16d7ed8434c81fb27619da04859"
      }
     },
     "metadata": {}
    },
    {
     "output_type": "stream",
     "name": "stderr",
     "text": [
      "You passed along `num_labels=3` with an incompatible id to label map: {'0': 'LABEL_0', '1': 'LABEL_1'}. The number of labels wil be overwritten to 2.\n"
     ]
    }
   ]
  },
  {
   "cell_type": "code",
   "source": [
    "# Import data:    SubjQA\n",
    "\n",
    "df_val=pd.read_csv('/content/drive/MyDrive/Project_2.2_fine-tuning/dev.csv')\n",
    "\n",
    "max_length = 384\n",
    "stride = 128"
   ],
   "metadata": {
    "id": "K7pVLgb2nkYv",
    "executionInfo": {
     "status": "ok",
     "timestamp": 1687699191967,
     "user_tz": -120,
     "elapsed": 437,
     "user": {
      "displayName": "Егор Сёма",
      "userId": "02815036778832912553"
     }
    }
   },
   "execution_count": 5,
   "outputs": []
  },
  {
   "cell_type": "code",
   "source": [
    "df_val=df_val[['question','human_ans_indices','review','human_ans_spans']]\n",
    "\n",
    "df_val['id']=np.linspace(0,len(df_val)-1,len(df_val))\n",
    "\n",
    "df_val['id']=df_val['id'].astype(str)\n",
    "\n",
    "df_val['answers']=df_val['human_ans_spans']\n",
    "\n",
    "for i in range(0,len(df_val)):\n",
    "  answer1={}\n",
    "  si=int(df_val.iloc[i].human_ans_indices.split('(')[1].split(',')[0])\n",
    "  ei=int(df_val.iloc[i].human_ans_indices.split('(')[1].split(',')[1].split(' ')[1].split(')')[0])\n",
    "  answer1['text']=[df_val.iloc[i].review[si:ei]]\n",
    "  answer1['answer_start']=[si]\n",
    "  df_val.at[i, 'answers']=answer1\n",
    "  # print(df_train.iloc[i].answers,df_train.iloc[i].human_ans_spans)\n",
    "\n",
    "df_val.columns=['question', 'human_ans_indices', 'context', 'human_ans_spans','id',\n",
    "       'answers']"
   ],
   "metadata": {
    "id": "434DBYlytIMk",
    "executionInfo": {
     "status": "ok",
     "timestamp": 1687699191968,
     "user_tz": -120,
     "elapsed": 11,
     "user": {
      "displayName": "Егор Сёма",
      "userId": "02815036778832912553"
     }
    }
   },
   "execution_count": 6,
   "outputs": []
  },
  {
   "cell_type": "code",
   "source": [
    "def preprocess_validation_examples(examples):\n",
    "    questions = [q.strip() for q in examples[\"question\"]]\n",
    "    inputs = tokenizer(\n",
    "        questions,\n",
    "        examples[\"context\"],\n",
    "        max_length=max_length,\n",
    "        truncation=\"only_second\",\n",
    "        stride=stride,\n",
    "        return_overflowing_tokens=True,\n",
    "        return_offsets_mapping=True,\n",
    "        padding=\"max_length\",\n",
    "    )\n",
    "\n",
    "    sample_map = inputs.pop(\"overflow_to_sample_mapping\")\n",
    "    example_ids = []\n",
    "\n",
    "    for i in range(len(inputs[\"input_ids\"])):\n",
    "        sample_idx = sample_map[i]\n",
    "        example_ids.append(examples[\"id\"][sample_idx])\n",
    "\n",
    "        sequence_ids = inputs.sequence_ids(i)\n",
    "        offset = inputs[\"offset_mapping\"][i]\n",
    "        inputs[\"offset_mapping\"][i] = [\n",
    "            o if sequence_ids[k] == 1 else None for k, o in enumerate(offset)\n",
    "        ]\n",
    "\n",
    "    inputs[\"example_id\"] = example_ids\n",
    "    return inputs"
   ],
   "metadata": {
    "id": "khyTqb0zq2RD",
    "executionInfo": {
     "status": "ok",
     "timestamp": 1687699191969,
     "user_tz": -120,
     "elapsed": 11,
     "user": {
      "displayName": "Егор Сёма",
      "userId": "02815036778832912553"
     }
    }
   },
   "execution_count": 7,
   "outputs": []
  },
  {
   "cell_type": "code",
   "source": [
    "val_dataset2 = datasets.Dataset.from_pandas(df_val)"
   ],
   "metadata": {
    "id": "XGarcx3aq6-I",
    "executionInfo": {
     "status": "ok",
     "timestamp": 1687699192284,
     "user_tz": -120,
     "elapsed": 326,
     "user": {
      "displayName": "Егор Сёма",
      "userId": "02815036778832912553"
     }
    }
   },
   "execution_count": 8,
   "outputs": []
  },
  {
   "cell_type": "code",
   "source": [
    "val_dataset2"
   ],
   "metadata": {
    "colab": {
     "base_uri": "https://localhost:8080/"
    },
    "id": "WhwmAx5tuYUU",
    "executionInfo": {
     "status": "ok",
     "timestamp": 1687699192284,
     "user_tz": -120,
     "elapsed": 14,
     "user": {
      "displayName": "Егор Сёма",
      "userId": "02815036778832912553"
     }
    },
    "outputId": "90a53ec4-566b-44a1-880c-8bffe9619220"
   },
   "execution_count": 9,
   "outputs": [
    {
     "output_type": "execute_result",
     "data": {
      "text/plain": [
       "Dataset({\n",
       "    features: ['question', 'human_ans_indices', 'context', 'human_ans_spans', 'id', 'answers'],\n",
       "    num_rows: 278\n",
       "})"
      ]
     },
     "metadata": {},
     "execution_count": 9
    }
   ]
  },
  {
   "cell_type": "code",
   "source": [
    "validation_dataset = val_dataset2.map(\n",
    "    preprocess_validation_examples,\n",
    "    batched=True,\n",
    "    remove_columns=val_dataset2.column_names,\n",
    ")\n",
    "len(validation_dataset)"
   ],
   "metadata": {
    "colab": {
     "base_uri": "https://localhost:8080/",
     "height": 34,
     "referenced_widgets": [
      "1d1723fb0b59408caac7d136cce90bd7",
      "e6116e3178d441419f06927111d8f9d8",
      "04c7649959174fd390d2b165628771b4",
      "501315a8271540d2a9ab023e6bd14a51",
      "ea28cb7389ce46e98f67d1c9d908fa60",
      "686699b67f0242b09bb2e975f600f11a",
      "c676e767a6264bcaa714f0f9a18e7159",
      "80a8c5e4cb5540b0931615cc601f19d4",
      "0dbe8bff1e9541d98b785a033fb5caee",
      "0a23394f8bb9496b8f982edc26a9319f",
      "33a5650df953469db33ce94e8cc80f4e"
     ]
    },
    "id": "78p2Wd7qq8vB",
    "executionInfo": {
     "status": "ok",
     "timestamp": 1687699192853,
     "user_tz": -120,
     "elapsed": 580,
     "user": {
      "displayName": "Егор Сёма",
      "userId": "02815036778832912553"
     }
    },
    "outputId": "f81fa79d-cdf7-417a-8edc-bacdb4ead259"
   },
   "execution_count": 10,
   "outputs": [
    {
     "output_type": "display_data",
     "data": {
      "text/plain": [
       "Map:   0%|          | 0/278 [00:00<?, ? examples/s]"
      ],
      "application/vnd.jupyter.widget-view+json": {
       "version_major": 2,
       "version_minor": 0,
       "model_id": "1d1723fb0b59408caac7d136cce90bd7"
      }
     },
     "metadata": {}
    },
    {
     "output_type": "execute_result",
     "data": {
      "text/plain": [
       "554"
      ]
     },
     "metadata": {},
     "execution_count": 10
    }
   ]
  },
  {
   "cell_type": "code",
   "source": [
    "validation_dataset"
   ],
   "metadata": {
    "colab": {
     "base_uri": "https://localhost:8080/"
    },
    "id": "Fgs7YKbssEUn",
    "executionInfo": {
     "status": "ok",
     "timestamp": 1687699192854,
     "user_tz": -120,
     "elapsed": 16,
     "user": {
      "displayName": "Егор Сёма",
      "userId": "02815036778832912553"
     }
    },
    "outputId": "f1f4ddd0-14f5-4c82-b13b-c1ecfa68b99a"
   },
   "execution_count": 11,
   "outputs": [
    {
     "output_type": "execute_result",
     "data": {
      "text/plain": [
       "Dataset({\n",
       "    features: ['input_ids', 'attention_mask', 'offset_mapping', 'example_id'],\n",
       "    num_rows: 554\n",
       "})"
      ]
     },
     "metadata": {},
     "execution_count": 11
    }
   ]
  },
  {
   "cell_type": "code",
   "source": [
    "import torch\n",
    "import pandas as pd\n",
    "from rouge_score import rouge_scorer\n",
    "\n",
    "def get_rouge_scores(model, tokenizer, data):\n",
    "\n",
    "    device = torch.device(\"cuda\" if torch.cuda.is_available() else \"cpu\")\n",
    "    rouge_scores = pd.DataFrame(columns=['precision', 'recall', 'fmeasure'])\n",
    "    scorer = rouge_scorer.RougeScorer(['rougeL'], use_stemmer=True)\n",
    "\n",
    "    for example in data:\n",
    "        input_ids = torch.tensor(example['input_ids'])\n",
    "        attention_mask = torch.tensor(example['attention_mask'])\n",
    "        example_id = example['example_id']\n",
    "\n",
    "        # Generate predictions\n",
    "        with torch.no_grad():\n",
    "            outputs = model(input_ids.unsqueeze(0), attention_mask=attention_mask.unsqueeze(0))\n",
    "\n",
    "            start_logits = outputs.start_logits\n",
    "            end_logits = outputs.end_logits\n",
    "\n",
    "        all_tokens = tokenizer.convert_ids_to_tokens(input_ids)\n",
    "        start_index = torch.argmax(start_logits.to(device))\n",
    "        end_index = torch.argmax(end_logits.to(device))\n",
    "        predicted_answer = tokenizer.decode(input_ids[start_index:end_index + 1], skip_special_tokens=True)\n",
    "\n",
    "        if len(predicted_answer) == 0:\n",
    "          predicted_answer = 'ANSWERNOTFOUND'\n",
    "\n",
    "        # Retrieve reference answer from the original dataset using example_id\n",
    "        example_indices = [i for i, ex_id in enumerate(val_dataset2['id']) if ex_id == example_id]\n",
    "        reference_answer = val_dataset2['answers'][example_indices[0]]['text'][0]\n",
    "        # print(\"REF: \", reference_answer)\n",
    "        # print(\"PRED: \", predicted_answer)\n",
    "\n",
    "        # Calculate ROUGE-L score\n",
    "        scores = scorer.score(predicted_answer, reference_answer)\n",
    "        rouge_scores.loc[len(rouge_scores)] = [scores['rougeL'].precision,\n",
    "                                               scores['rougeL'].recall,\n",
    "                                               scores['rougeL'].fmeasure]\n",
    "\n",
    "    return rouge_scores"
   ],
   "metadata": {
    "id": "qidnn4VFtohE",
    "executionInfo": {
     "status": "ok",
     "timestamp": 1687699547746,
     "user_tz": -120,
     "elapsed": 225,
     "user": {
      "displayName": "Егор Сёма",
      "userId": "02815036778832912553"
     }
    }
   },
   "execution_count": 16,
   "outputs": []
  },
  {
   "cell_type": "code",
   "source": [
    "# Calculate ROUGE scores for the original model\n",
    "tuned_rouge_scores = get_rouge_scores(model_tuned, tokenizer, validation_dataset)\n",
    "squad_rouge_scores = get_rouge_scores(model_squad, tokenizer, validation_dataset)"
   ],
   "metadata": {
    "id": "DSLGn3fAuF6n",
    "executionInfo": {
     "status": "ok",
     "timestamp": 1687705265015,
     "user_tz": -120,
     "elapsed": 5715045,
     "user": {
      "displayName": "Егор Сёма",
      "userId": "02815036778832912553"
     }
    }
   },
   "execution_count": 17,
   "outputs": []
  },
  {
   "cell_type": "code",
   "source": [
    "import matplotlib.pyplot as plt\n",
    "import numpy as np\n",
    "\n",
    "# Extract the scores for each model\n",
    "precision_tuned = tuned_rouge_scores['precision']\n",
    "precision_squad = squad_rouge_scores['precision']\n",
    "\n",
    "recall_tuned = tuned_rouge_scores['recall']\n",
    "recall_squad = squad_rouge_scores['recall']\n",
    "\n",
    "fmeasure_tuned = tuned_rouge_scores['fmeasure']\n",
    "fmeasure_squad = squad_rouge_scores['fmeasure']\n",
    "\n",
    "# Create subplots\n",
    "fig, ax = plt.subplots(1, 3, figsize=(12, 4))\n",
    "\n",
    "# Plot Precision with adjusted whiskers and individual data points\n",
    "ax[0].boxplot([precision_tuned, precision_squad], sym='o', showmeans=True, meanprops={'marker': 'o', 'markeredgecolor': 'black', 'markerfacecolor': 'red'})\n",
    "ax[0].set_xticklabels([\"Fine-tuned\", \"SQuAD\"])\n",
    "ax[0].set_title('Precision')\n",
    "\n",
    "# Plot Recall with adjusted whiskers and individual data points\n",
    "ax[1].boxplot([recall_tuned, recall_squad], sym='o', showmeans=True, meanprops={'marker': 'o', 'markeredgecolor': 'black', 'markerfacecolor': 'red'})\n",
    "ax[1].set_xticklabels([\"Fine-tuned\", \"SQuAD\"])\n",
    "ax[1].set_title('Recall')\n",
    "\n",
    "# Plot F-measure with adjusted whiskers and individual data points\n",
    "ax[2].boxplot([fmeasure_tuned, fmeasure_squad], sym='o', showmeans=True, meanprops={'marker': 'o', 'markeredgecolor': 'black', 'markerfacecolor': 'red'})\n",
    "ax[2].set_xticklabels([\"Fine-tuned\", \"SQuAD\"])\n",
    "ax[2].set_title('F-measure')\n",
    "\n",
    "# Set mean lines\n",
    "mean_precision_tuned = np.mean(precision_tuned)\n",
    "mean_precision_squad = np.mean(precision_squad)\n",
    "ax[0].axhline(mean_precision_tuned, color='red', linestyle='--', label='Mean')\n",
    "ax[0].axhline(mean_precision_squad, color='red', linestyle='--')\n",
    "ax[0].legend()\n",
    "\n",
    "mean_recall_tuned = np.mean(recall_tuned)\n",
    "mean_recall_squad = np.mean(recall_squad)\n",
    "ax[1].axhline(mean_recall_tuned, color='red', linestyle='--', label='Mean')\n",
    "ax[1].axhline(mean_recall_squad, color='red', linestyle='--')\n",
    "ax[1].legend()\n",
    "\n",
    "mean_fmeasure_tuned = np.mean(fmeasure_tuned)\n",
    "mean_fmeasure_squad = np.mean(fmeasure_squad)\n",
    "ax[2].axhline(mean_fmeasure_tuned, color='red', linestyle='--', label='Mean')\n",
    "ax[2].axhline(mean_fmeasure_squad, color='red', linestyle='--')\n",
    "ax[2].legend()\n",
    "\n",
    "# Set common title and adjust layout\n",
    "fig.suptitle(\"ROUGE scores Comparison between QA BART\")\n",
    "fig.tight_layout(pad=1.5)\n",
    "\n",
    "plt.show()\n"
   ],
   "metadata": {
    "colab": {
     "base_uri": "https://localhost:8080/",
     "height": 408
    },
    "id": "0Ru9HitiuTWA",
    "executionInfo": {
     "status": "ok",
     "timestamp": 1687705319168,
     "user_tz": -120,
     "elapsed": 2378,
     "user": {
      "displayName": "Егор Сёма",
      "userId": "02815036778832912553"
     }
    },
    "outputId": "fac7d263-9e0a-4612-d92d-990980541c56"
   },
   "execution_count": 21,
   "outputs": [
    {
     "output_type": "display_data",
     "data": {
      "text/plain": [
       "<Figure size 1200x400 with 3 Axes>"
      ],
      "image/png": "[encoded data removed]"
     },
     "metadata": {}
    }
   ]
  },
  {
   "cell_type": "code",
   "source": [
    "# Calculate overall scores\n",
    "overall_precision_tuned = tuned_rouge_scores['precision'].mean()\n",
    "overall_recall_tuned = tuned_rouge_scores['recall'].mean()\n",
    "overall_fmeasure_tuned = tuned_rouge_scores['fmeasure'].mean()\n",
    "\n",
    "# Print the overall scores\n",
    "print(\"Fine-tuned\")\n",
    "print(\"Precision:\", overall_precision_tuned)\n",
    "print(\"Recall:\", overall_recall_tuned)\n",
    "print(\"F-measure:\", overall_fmeasure_tuned)\n",
    "\n",
    "overall_precision_squad = squad_rouge_scores['precision'].mean()\n",
    "overall_recall_squad = squad_rouge_scores['recall'].mean()\n",
    "overall_fmeasure_squad = squad_rouge_scores['fmeasure'].mean()\n",
    "\n",
    "# Print the overall scores\n",
    "print(\"SQuAD\")\n",
    "print(\"Precision:\", overall_precision_squad)\n",
    "print(\"Recall:\", overall_recall_squad)\n",
    "print(\"F-measure:\", overall_fmeasure_squad)"
   ],
   "metadata": {
    "colab": {
     "base_uri": "https://localhost:8080/"
    },
    "id": "wFaVZtbvI2s_",
    "executionInfo": {
     "status": "ok",
     "timestamp": 1687705268082,
     "user_tz": -120,
     "elapsed": 78,
     "user": {
      "displayName": "Егор Сёма",
      "userId": "02815036778832912553"
     }
    },
    "outputId": "e0f4c7b7-8020-4da2-bd93-0832f837357e"
   },
   "execution_count": 19,
   "outputs": [
    {
     "output_type": "stream",
     "name": "stdout",
     "text": [
      "Fine-tuned\n",
      "Precision: 0.4379328887795828\n",
      "Recall: 0.4427170584947613\n",
      "F-measure: 0.429646892666898\n",
      "SQuAD\n",
      "Precision: 0.17285471847350628\n",
      "Recall: 0.19982739685313952\n",
      "F-measure: 0.16861500755378303\n"
     ]
    }
   ]
  },
  {
   "cell_type": "code",
   "source": [
    "import seaborn as sns\n",
    "import matplotlib.pyplot as plt\n",
    "import numpy as np\n",
    "\n",
    "# Create subplots\n",
    "fig, ax = plt.subplots(1, 3, figsize=(10, 4))\n",
    "\n",
    "# Set marker size\n",
    "marker_size = 3\n",
    "\n",
    "# Plot Precision\n",
    "sns.violinplot(data=[precision_tuned, precision_squad], ax=ax[0], inner=\"quartile\")\n",
    "sns.pointplot(data=[precision_tuned, precision_squad], ax=ax[0], color='red', markers='.', linestyles='', dodge=True, errorbar=None)\n",
    "ax[0].set_xticks([0, 1])\n",
    "ax[0].set_xticklabels([\"Fine-tuned\", \"SQuAD\"])\n",
    "ax[0].set_title('Precision')\n",
    "\n",
    "# Plot Recall\n",
    "sns.violinplot(data=[recall_tuned, recall_squad], ax=ax[1], inner=\"quartile\")\n",
    "sns.pointplot(data=[recall_tuned, recall_squad], ax=ax[1], color='red', markers='.', linestyles='', dodge=True, errorbar=None)\n",
    "ax[1].set_xticks([0, 1])\n",
    "ax[1].set_xticklabels([\"Fine-tuned\", \"SQuAD\"])\n",
    "ax[1].set_title('Recall')\n",
    "\n",
    "# Plot F-measure\n",
    "sns.violinplot(data=[fmeasure_tuned, fmeasure_squad], ax=ax[2], inner=\"quartile\")\n",
    "sns.pointplot(data=[fmeasure_tuned, fmeasure_squad], ax=ax[2], color='red', markers='.', linestyles='', dodge=True, errorbar=None)\n",
    "ax[2].set_xticks([0, 1])\n",
    "ax[2].set_xticklabels([\"Fine-tuned\", \"SQuAD\"])\n",
    "ax[2].set_title('F-measure')\n",
    "\n",
    "# Set mean lines\n",
    "mean_precision_tuned = np.mean(precision_tuned)\n",
    "mean_precision_squad = np.mean(precision_squad)\n",
    "ax[0].axhline(mean_precision_tuned, color='red', linestyle='--', label='Mean')\n",
    "ax[0].axhline(mean_precision_squad, color='red', linestyle='--')\n",
    "ax[0].legend()\n",
    "\n",
    "mean_recall_tuned = np.mean(recall_tuned)\n",
    "mean_recall_squad = np.mean(recall_squad)\n",
    "ax[1].axhline(mean_recall_tuned, color='red', linestyle='--', label='Mean')\n",
    "ax[1].axhline(mean_recall_squad, color='red', linestyle='--')\n",
    "ax[1].legend()\n",
    "\n",
    "mean_fmeasure_tuned = np.mean(fmeasure_tuned)\n",
    "mean_fmeasure_squad = np.mean(fmeasure_squad)\n",
    "ax[2].axhline(mean_fmeasure_tuned, color='red', linestyle='--', label='Mean')\n",
    "ax[2].axhline(mean_fmeasure_squad, color='red', linestyle='--')\n",
    "ax[2].legend()\n",
    "\n",
    "# Set common title and adjust layout\n",
    "fig.suptitle(\"ROUGE scores Comparison between QA BART\")\n",
    "fig.tight_layout(pad=1.5)\n",
    "\n",
    "plt.show()\n"
   ],
   "metadata": {
    "colab": {
     "base_uri": "https://localhost:8080/",
     "height": 408
    },
    "id": "l4OQmc6wu2PM",
    "executionInfo": {
     "status": "ok",
     "timestamp": 1687705327343,
     "user_tz": -120,
     "elapsed": 1672,
     "user": {
      "displayName": "Егор Сёма",
      "userId": "02815036778832912553"
     }
    },
    "outputId": "eaa198d8-5584-4750-b691-6bd3d86be1c3",
    "is_executing": true
   },
   "execution_count": null,
   "outputs": []
  },
  {
   "cell_type": "code",
   "source": [],
   "metadata": {
    "id": "bJr-AxyExZm3",
    "executionInfo": {
     "status": "aborted",
     "timestamp": 1687699198032,
     "user_tz": -120,
     "elapsed": 25,
     "user": {
      "displayName": "Егор Сёма",
      "userId": "02815036778832912553"
     }
    }
   },
   "execution_count": null,
   "outputs": []
  }
 ]
}
